{
 "cells": [
  {
   "cell_type": "code",
   "execution_count": 6,
   "metadata": {},
   "outputs": [],
   "source": [
    "import psycopg2\n",
    "import os\n",
    "import csv\n",
    "import requests\n",
    "import json\n",
    "import re\n",
    "import time"
   ]
  },
  {
   "cell_type": "code",
   "execution_count": 7,
   "metadata": {},
   "outputs": [],
   "source": [
    "def db_init():\n",
    "  '''DB 연결 및 초기화'''\n",
    "  conn = psycopg2.connect(\n",
    "    host='localhost',\n",
    "    dbname='train_db',\n",
    "    user='project4',\n",
    "    password='abcdqwer',\n",
    "    port='5432'\n",
    "  )\n",
    "  \n",
    "  cur = conn.cursor()\n",
    "\n",
    "  # DB 업데이트를 위한 TABLE 정리\n",
    "  cur.execute('DROP TABLE IF EXISTS train_cong;')\n",
    "  cur.execute('''CREATE TABLE train_cong (\n",
    "    id    SERIAL    PRIMARY KEY,\n",
    "    number_asc  INTEGER,\n",
    "    week  VARCHAR(10)   NOT NULL,\n",
    "    line  INTEGER   NOT NULL,\n",
    "    st_code   INTEGER   NOT NULL,\n",
    "    st_name   VARCHAR(50)   NOT NULL,\n",
    "    clss   VARCHAR(10)   NOT NULL,\n",
    "    time  INTEGER,\n",
    "    congestion  FLOAT\n",
    "  );''')\n",
    "  \n",
    "  conn.commit()\n",
    "  cur.close()\n",
    "  \n",
    "  return conn"
   ]
  },
  {
   "cell_type": "code",
   "execution_count": 8,
   "metadata": {},
   "outputs": [],
   "source": [
    "def cong_dataset(path, conn, num):\n",
    "  '''지하철 혼잡도 API를 이용해 DB로 저장\n",
    "    path : INFO_URL에서 가져온 혼잡도 API PATH\n",
    "    conn : 클라우드 DB 연결 객체\n",
    "    num : API PATH 순서'''\n",
    "  cur = conn.cursor()\n",
    "  \n",
    "  API_KEY = '7x1TU10Ct0763mZVXpBvYSYizKLENWLSWK9K1J6pz0euL7mh7iZhN0TEKp48968l7TFlRh9SXPsO%2BANWRXaDUA%3D%3D'\n",
    "  CONGESTION_API = f'https://api.odcloud.kr/api{path}?page=1&perPage=2000&serviceKey={API_KEY}'\n",
    "\n",
    "  cong_raw = requests.get(CONGESTION_API)\n",
    "  cong_data = json.loads(cong_raw.text)\n",
    "  \n",
    "  time.sleep(1)\n",
    "  \n",
    "  for data in cong_data['data']:\n",
    "    number_asc = num\n",
    "    week = data['조사일자']\n",
    "    line = int(data['호선'])\n",
    "    st_code = int(data['역번호'])\n",
    "    st_name = data['역명']\n",
    "    clss = data['구분']\n",
    "    \n",
    "    for t, c in list(data.items())[:-6]:\n",
    "      times = int(re.sub(r'[^0-9]', '', t))\n",
    "      cong = float(c)\n",
    "      cur.execute(f'''INSERT INTO train_cong VALUES\n",
    "                  (DEFAULT, {number_asc}, '{week}', {line}, {st_code}, '{st_name}', '{clss}', {times}, {cong});''')\n",
    "  \n",
    "  conn.commit()\n",
    "  cur.close()"
   ]
  },
  {
   "cell_type": "code",
   "execution_count": 9,
   "metadata": {},
   "outputs": [],
   "source": [
    "def cong_dataset_update():\n",
    "  # 추후 혼잡도 데이터 업데이트를 위한 INFO parsing\n",
    "  INFO_URL = 'https://infuser.odcloud.kr/oas/docs?namespace=15071311/v1'\n",
    "\n",
    "  path_raw = requests.get(INFO_URL)\n",
    "  path_data = json.loads(path_raw.text)\n",
    "\n",
    "  update_paths = list(path_data['paths'])[-1:] # update 시 이코드 사용\n",
    "  # 참고 : 지하철 혼잡도 데이터 갱신주기가 2년이라, 현재는 가장 최근 2021년 데이터만 사용 추후 API의 갱신 주기가 빨라지면 바꿀 예정\n",
    "\n",
    "  time.sleep(1)\n",
    "  \n",
    "  conn = db_init()\n",
    "  \n",
    "  for i, path in enumerate(update_paths):\n",
    "    cong_dataset(path, conn, i+1)\n",
    "  \n",
    "  conn.commit()\n",
    "  conn.close()\n",
    "  \n",
    "  return print('update completed')"
   ]
  },
  {
   "cell_type": "code",
   "execution_count": 10,
   "metadata": {},
   "outputs": [
    {
     "name": "stdout",
     "output_type": "stream",
     "text": [
      "update completed\n"
     ]
    }
   ],
   "source": [
    "cong_dataset_update()"
   ]
  }
 ],
 "metadata": {
  "interpreter": {
   "hash": "a11925d78541ac7579b3281886abed0f31162e670d3cfb3478266e5c76336355"
  },
  "kernelspec": {
   "display_name": "Python 3.10.9 ('project4')",
   "language": "python",
   "name": "python3"
  },
  "language_info": {
   "codemirror_mode": {
    "name": "ipython",
    "version": 3
   },
   "file_extension": ".py",
   "mimetype": "text/x-python",
   "name": "python",
   "nbconvert_exporter": "python",
   "pygments_lexer": "ipython3",
   "version": "3.10.10"
  },
  "orig_nbformat": 4
 },
 "nbformat": 4,
 "nbformat_minor": 2
}
