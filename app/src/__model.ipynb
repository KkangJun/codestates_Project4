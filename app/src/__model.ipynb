{
 "cells": [
  {
   "cell_type": "code",
   "execution_count": 4,
   "metadata": {},
   "outputs": [],
   "source": [
    "import psycopg2\n",
    "import os\n",
    "import csv\n",
    "import time\n",
    "import numpy as np\n",
    "\n",
    "from category_encoders import OrdinalEncoder\n",
    "from sklearn.preprocessing import MinMaxScaler, StandardScaler\n",
    "import tensorflow as tf\n",
    "import keras\n",
    "from tensorflow.keras.models import Model\n",
    "from tensorflow.keras.layers import Dense, GRU, Dropout, Input"
   ]
  },
  {
   "cell_type": "code",
   "execution_count": null,
   "metadata": {},
   "outputs": [],
   "source": [
    "conn = psycopg2.connect(\n",
    "  host='localhost',\n",
    "  database='kkangjun',\n",
    "  user='kkangjun',\n",
    "  password=''\n",
    ")\n",
    "\n",
    "cur = conn.cursor()"
   ]
  },
  {
   "cell_type": "code",
   "execution_count": null,
   "metadata": {},
   "outputs": [],
   "source": [
    "cur.execute('SELECT * FROM train_cong')\n",
    "\n",
    "time.sleep(1)\n",
    "\n",
    "data = cur.fetchall()\n",
    "feature = next(data)\n",
    "\n",
    "x_train = np.array([row[:-1] for row in data])\n",
    "y_train = np.array([row[-1] for row in data])"
   ]
  },
  {
   "cell_type": "code",
   "execution_count": null,
   "metadata": {},
   "outputs": [],
   "source": [
    "encoder = OrdinalEncoder()\n",
    "x_train_enc = encoder.fit_transform(x_train)\n",
    "\n",
    "scaler = MinMaxScaler()\n",
    "x_train_scl = scaler.fit_transform(x_train_enc)"
   ]
  },
  {
   "cell_type": "code",
   "execution_count": null,
   "metadata": {},
   "outputs": [],
   "source": [
    "def gru_model(layers=0):\n",
    "  inputs = Input(shape=(5,))\n",
    "  layer = GRU(64, activation='tanh')(inputs)\n",
    "  layer = Dropout(0.2)(layer)\n",
    "  \n",
    "  for _ in range(layers):\n",
    "    layer = GRU(64, activation='tanh')(inputs)\n",
    "    layer = Dropout(0.2)(layer)\n",
    "  \n",
    "  outputs = Dense(1, name='output')(layer)\n",
    "  \n",
    "  model = Model(inputs=inputs, outputs=outputs)\n",
    "  \n",
    "  model.compile(optimizer='adam', loss='mean_squared_error')\n",
    "  \n",
    "  return model"
   ]
  },
  {
   "cell_type": "code",
   "execution_count": null,
   "metadata": {},
   "outputs": [],
   "source": [
    "model = gru_model(3)\n",
    "\n",
    "model.fit(x_train_scl, y_train, batch_size=128, epochs=10)"
   ]
  }
 ],
 "metadata": {
  "interpreter": {
   "hash": "3cacf89191c40a95faf5b7c4660fb9a17a57be1913175a649a8b42f9f34af90e"
  },
  "kernelspec": {
   "display_name": "Python 3.10.9 ('base')",
   "language": "python",
   "name": "python3"
  },
  "language_info": {
   "codemirror_mode": {
    "name": "ipython",
    "version": 3
   },
   "file_extension": ".py",
   "mimetype": "text/x-python",
   "name": "python",
   "nbconvert_exporter": "python",
   "pygments_lexer": "ipython3",
   "version": "3.10.9"
  },
  "orig_nbformat": 4
 },
 "nbformat": 4,
 "nbformat_minor": 2
}
