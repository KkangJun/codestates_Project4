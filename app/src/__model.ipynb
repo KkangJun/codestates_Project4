{
 "cells": [
  {
   "cell_type": "code",
   "execution_count": 4,
   "metadata": {},
   "outputs": [],
   "source": [
    "import psycopg2\n",
    "import os\n",
    "import csv\n",
    "import time\n",
    "import numpy as np\n",
    "import pandas as pd\n",
    "\n",
    "from category_encoders import OrdinalEncoder\n",
    "from sklearn.preprocessing import MinMaxScaler, StandardScaler\n",
    "import tensorflow as tf\n",
    "import keras\n",
    "from tensorflow.keras.models import Model\n",
    "from tensorflow.keras.layers import Dense, GRU, Dropout, Input, BatchNormalization, Activation\n",
    "from tensorflow.keras.preprocessing.sequence import TimeseriesGenerator"
   ]
  },
  {
   "cell_type": "code",
   "execution_count": 5,
   "metadata": {},
   "outputs": [],
   "source": [
    "conn = psycopg2.connect(\n",
    "  host='localhost',\n",
    "  dbname='train_db',\n",
    "  user='project4',\n",
    "  password='abcdqwer',\n",
    "  port='5432'\n",
    ")"
   ]
  },
  {
   "cell_type": "code",
   "execution_count": 6,
   "metadata": {},
   "outputs": [
    {
     "name": "stderr",
     "output_type": "stream",
     "text": [
      "/var/folders/5y/8vxkxcq10jbbp_61mxm4tcqw0000gn/T/ipykernel_90978/557139081.py:1: UserWarning: pandas only supports SQLAlchemy connectable (engine/connection) or database string URI or sqlite3 DBAPI2 connection. Other DBAPI2 objects are not tested. Please consider using SQLAlchemy.\n",
      "  dataset = pd.read_sql(\"SELECT * FROM train_cong\", conn)\n"
     ]
    }
   ],
   "source": [
    "dataset = pd.read_sql(\"SELECT * FROM train_cong\", conn)\n",
    "dataset_cp = dataset.copy()\n",
    "\n",
    "conn.close()"
   ]
  },
  {
   "cell_type": "code",
   "execution_count": 7,
   "metadata": {},
   "outputs": [
    {
     "data": {
      "text/html": [
       "<div>\n",
       "<style scoped>\n",
       "    .dataframe tbody tr th:only-of-type {\n",
       "        vertical-align: middle;\n",
       "    }\n",
       "\n",
       "    .dataframe tbody tr th {\n",
       "        vertical-align: top;\n",
       "    }\n",
       "\n",
       "    .dataframe thead th {\n",
       "        text-align: right;\n",
       "    }\n",
       "</style>\n",
       "<table border=\"1\" class=\"dataframe\">\n",
       "  <thead>\n",
       "    <tr style=\"text-align: right;\">\n",
       "      <th></th>\n",
       "      <th>id</th>\n",
       "      <th>number_asc</th>\n",
       "      <th>week</th>\n",
       "      <th>line</th>\n",
       "      <th>st_code</th>\n",
       "      <th>st_name</th>\n",
       "      <th>clss</th>\n",
       "      <th>time</th>\n",
       "      <th>congestion</th>\n",
       "    </tr>\n",
       "  </thead>\n",
       "  <tbody>\n",
       "    <tr>\n",
       "      <th>0</th>\n",
       "      <td>1</td>\n",
       "      <td>1</td>\n",
       "      <td>평일</td>\n",
       "      <td>1</td>\n",
       "      <td>150</td>\n",
       "      <td>서울역</td>\n",
       "      <td>상선</td>\n",
       "      <td>1000</td>\n",
       "      <td>26.6</td>\n",
       "    </tr>\n",
       "    <tr>\n",
       "      <th>1</th>\n",
       "      <td>2</td>\n",
       "      <td>1</td>\n",
       "      <td>평일</td>\n",
       "      <td>1</td>\n",
       "      <td>150</td>\n",
       "      <td>서울역</td>\n",
       "      <td>상선</td>\n",
       "      <td>1030</td>\n",
       "      <td>23.4</td>\n",
       "    </tr>\n",
       "    <tr>\n",
       "      <th>2</th>\n",
       "      <td>3</td>\n",
       "      <td>1</td>\n",
       "      <td>평일</td>\n",
       "      <td>1</td>\n",
       "      <td>150</td>\n",
       "      <td>서울역</td>\n",
       "      <td>상선</td>\n",
       "      <td>1100</td>\n",
       "      <td>22.4</td>\n",
       "    </tr>\n",
       "    <tr>\n",
       "      <th>3</th>\n",
       "      <td>4</td>\n",
       "      <td>1</td>\n",
       "      <td>평일</td>\n",
       "      <td>1</td>\n",
       "      <td>150</td>\n",
       "      <td>서울역</td>\n",
       "      <td>상선</td>\n",
       "      <td>1130</td>\n",
       "      <td>22.1</td>\n",
       "    </tr>\n",
       "    <tr>\n",
       "      <th>4</th>\n",
       "      <td>5</td>\n",
       "      <td>1</td>\n",
       "      <td>평일</td>\n",
       "      <td>1</td>\n",
       "      <td>150</td>\n",
       "      <td>서울역</td>\n",
       "      <td>상선</td>\n",
       "      <td>1200</td>\n",
       "      <td>21.5</td>\n",
       "    </tr>\n",
       "    <tr>\n",
       "      <th>...</th>\n",
       "      <td>...</td>\n",
       "      <td>...</td>\n",
       "      <td>...</td>\n",
       "      <td>...</td>\n",
       "      <td>...</td>\n",
       "      <td>...</td>\n",
       "      <td>...</td>\n",
       "      <td>...</td>\n",
       "      <td>...</td>\n",
       "    </tr>\n",
       "    <tr>\n",
       "      <th>63043</th>\n",
       "      <td>63044</td>\n",
       "      <td>1</td>\n",
       "      <td>일요일</td>\n",
       "      <td>8</td>\n",
       "      <td>2827</td>\n",
       "      <td>모란</td>\n",
       "      <td>하선</td>\n",
       "      <td>730</td>\n",
       "      <td>0.0</td>\n",
       "    </tr>\n",
       "    <tr>\n",
       "      <th>63044</th>\n",
       "      <td>63045</td>\n",
       "      <td>1</td>\n",
       "      <td>일요일</td>\n",
       "      <td>8</td>\n",
       "      <td>2827</td>\n",
       "      <td>모란</td>\n",
       "      <td>하선</td>\n",
       "      <td>800</td>\n",
       "      <td>0.0</td>\n",
       "    </tr>\n",
       "    <tr>\n",
       "      <th>63045</th>\n",
       "      <td>63046</td>\n",
       "      <td>1</td>\n",
       "      <td>일요일</td>\n",
       "      <td>8</td>\n",
       "      <td>2827</td>\n",
       "      <td>모란</td>\n",
       "      <td>하선</td>\n",
       "      <td>830</td>\n",
       "      <td>0.0</td>\n",
       "    </tr>\n",
       "    <tr>\n",
       "      <th>63046</th>\n",
       "      <td>63047</td>\n",
       "      <td>1</td>\n",
       "      <td>일요일</td>\n",
       "      <td>8</td>\n",
       "      <td>2827</td>\n",
       "      <td>모란</td>\n",
       "      <td>하선</td>\n",
       "      <td>900</td>\n",
       "      <td>0.0</td>\n",
       "    </tr>\n",
       "    <tr>\n",
       "      <th>63047</th>\n",
       "      <td>63048</td>\n",
       "      <td>1</td>\n",
       "      <td>일요일</td>\n",
       "      <td>8</td>\n",
       "      <td>2827</td>\n",
       "      <td>모란</td>\n",
       "      <td>하선</td>\n",
       "      <td>930</td>\n",
       "      <td>0.0</td>\n",
       "    </tr>\n",
       "  </tbody>\n",
       "</table>\n",
       "<p>63048 rows × 9 columns</p>\n",
       "</div>"
      ],
      "text/plain": [
       "          id  number_asc week  line  st_code st_name clss  time  congestion\n",
       "0          1           1   평일     1      150     서울역   상선  1000        26.6\n",
       "1          2           1   평일     1      150     서울역   상선  1030        23.4\n",
       "2          3           1   평일     1      150     서울역   상선  1100        22.4\n",
       "3          4           1   평일     1      150     서울역   상선  1130        22.1\n",
       "4          5           1   평일     1      150     서울역   상선  1200        21.5\n",
       "...      ...         ...  ...   ...      ...     ...  ...   ...         ...\n",
       "63043  63044           1  일요일     8     2827      모란   하선   730         0.0\n",
       "63044  63045           1  일요일     8     2827      모란   하선   800         0.0\n",
       "63045  63046           1  일요일     8     2827      모란   하선   830         0.0\n",
       "63046  63047           1  일요일     8     2827      모란   하선   900         0.0\n",
       "63047  63048           1  일요일     8     2827      모란   하선   930         0.0\n",
       "\n",
       "[63048 rows x 9 columns]"
      ]
     },
     "execution_count": 7,
     "metadata": {},
     "output_type": "execute_result"
    }
   ],
   "source": [
    "dataset"
   ]
  },
  {
   "cell_type": "code",
   "execution_count": 8,
   "metadata": {},
   "outputs": [],
   "source": [
    "dataset.drop(['id', 'number_asc', 'st_name', 'line'], axis=1, inplace=True, errors='ignore')\n",
    "dataset.sort_values(['week', 'st_code', 'clss', 'time'], inplace=True)\n",
    "dataset.reset_index(drop=True, inplace=True)"
   ]
  },
  {
   "cell_type": "code",
   "execution_count": 9,
   "metadata": {},
   "outputs": [],
   "source": [
    "# dataset_cp[dataset_cp['line'] == 15][['st_code', 'st_name','clss', 'week']].value_counts()"
   ]
  },
  {
   "cell_type": "code",
   "execution_count": 10,
   "metadata": {},
   "outputs": [],
   "source": [
    "# 이동 방향에 따른 역번호 증가\n",
    "# 1호선(상선 증가) , 2호선(내선 증가), 3호선(하선 증가), 4호선(상선 증가), 5호선(하선 증가), 6호선(하선 증가), 7호선(하선 증가), 8(하선 증가)\n",
    "# line 13(2호선), line 14(2호선), line 15(5호선)\n",
    "\n",
    "dataset = dataset.replace({'평일':1, '토요일':2, '일요일':3, '상선':1, '하선':2, '내선':3, '외선':4})"
   ]
  },
  {
   "cell_type": "code",
   "execution_count": 11,
   "metadata": {},
   "outputs": [
    {
     "data": {
      "text/html": [
       "<div>\n",
       "<style scoped>\n",
       "    .dataframe tbody tr th:only-of-type {\n",
       "        vertical-align: middle;\n",
       "    }\n",
       "\n",
       "    .dataframe tbody tr th {\n",
       "        vertical-align: top;\n",
       "    }\n",
       "\n",
       "    .dataframe thead th {\n",
       "        text-align: right;\n",
       "    }\n",
       "</style>\n",
       "<table border=\"1\" class=\"dataframe\">\n",
       "  <thead>\n",
       "    <tr style=\"text-align: right;\">\n",
       "      <th></th>\n",
       "      <th>week</th>\n",
       "      <th>st_code</th>\n",
       "      <th>clss</th>\n",
       "      <th>time</th>\n",
       "      <th>congestion</th>\n",
       "    </tr>\n",
       "  </thead>\n",
       "  <tbody>\n",
       "    <tr>\n",
       "      <th>0</th>\n",
       "      <td>3</td>\n",
       "      <td>150</td>\n",
       "      <td>1</td>\n",
       "      <td>530</td>\n",
       "      <td>2.4</td>\n",
       "    </tr>\n",
       "    <tr>\n",
       "      <th>1</th>\n",
       "      <td>3</td>\n",
       "      <td>150</td>\n",
       "      <td>1</td>\n",
       "      <td>600</td>\n",
       "      <td>6.9</td>\n",
       "    </tr>\n",
       "    <tr>\n",
       "      <th>2</th>\n",
       "      <td>3</td>\n",
       "      <td>150</td>\n",
       "      <td>1</td>\n",
       "      <td>630</td>\n",
       "      <td>6.8</td>\n",
       "    </tr>\n",
       "    <tr>\n",
       "      <th>3</th>\n",
       "      <td>3</td>\n",
       "      <td>150</td>\n",
       "      <td>1</td>\n",
       "      <td>700</td>\n",
       "      <td>6.1</td>\n",
       "    </tr>\n",
       "    <tr>\n",
       "      <th>4</th>\n",
       "      <td>3</td>\n",
       "      <td>150</td>\n",
       "      <td>1</td>\n",
       "      <td>730</td>\n",
       "      <td>7.5</td>\n",
       "    </tr>\n",
       "    <tr>\n",
       "      <th>...</th>\n",
       "      <td>...</td>\n",
       "      <td>...</td>\n",
       "      <td>...</td>\n",
       "      <td>...</td>\n",
       "      <td>...</td>\n",
       "    </tr>\n",
       "    <tr>\n",
       "      <th>63043</th>\n",
       "      <td>1</td>\n",
       "      <td>2827</td>\n",
       "      <td>2</td>\n",
       "      <td>2130</td>\n",
       "      <td>0.0</td>\n",
       "    </tr>\n",
       "    <tr>\n",
       "      <th>63044</th>\n",
       "      <td>1</td>\n",
       "      <td>2827</td>\n",
       "      <td>2</td>\n",
       "      <td>2200</td>\n",
       "      <td>0.0</td>\n",
       "    </tr>\n",
       "    <tr>\n",
       "      <th>63045</th>\n",
       "      <td>1</td>\n",
       "      <td>2827</td>\n",
       "      <td>2</td>\n",
       "      <td>2230</td>\n",
       "      <td>0.0</td>\n",
       "    </tr>\n",
       "    <tr>\n",
       "      <th>63046</th>\n",
       "      <td>1</td>\n",
       "      <td>2827</td>\n",
       "      <td>2</td>\n",
       "      <td>2300</td>\n",
       "      <td>0.0</td>\n",
       "    </tr>\n",
       "    <tr>\n",
       "      <th>63047</th>\n",
       "      <td>1</td>\n",
       "      <td>2827</td>\n",
       "      <td>2</td>\n",
       "      <td>2330</td>\n",
       "      <td>0.0</td>\n",
       "    </tr>\n",
       "  </tbody>\n",
       "</table>\n",
       "<p>63048 rows × 5 columns</p>\n",
       "</div>"
      ],
      "text/plain": [
       "       week  st_code  clss  time  congestion\n",
       "0         3      150     1   530         2.4\n",
       "1         3      150     1   600         6.9\n",
       "2         3      150     1   630         6.8\n",
       "3         3      150     1   700         6.1\n",
       "4         3      150     1   730         7.5\n",
       "...     ...      ...   ...   ...         ...\n",
       "63043     1     2827     2  2130         0.0\n",
       "63044     1     2827     2  2200         0.0\n",
       "63045     1     2827     2  2230         0.0\n",
       "63046     1     2827     2  2300         0.0\n",
       "63047     1     2827     2  2330         0.0\n",
       "\n",
       "[63048 rows x 5 columns]"
      ]
     },
     "execution_count": 11,
     "metadata": {},
     "output_type": "execute_result"
    }
   ],
   "source": [
    "dataset"
   ]
  },
  {
   "cell_type": "code",
   "execution_count": 12,
   "metadata": {},
   "outputs": [],
   "source": [
    "x_train = dataset.drop('congestion', axis=1)\n",
    "y_train = dataset['congestion']"
   ]
  },
  {
   "cell_type": "code",
   "execution_count": 13,
   "metadata": {},
   "outputs": [
    {
     "data": {
      "text/plain": [
       "((63048, 4), (63048,))"
      ]
     },
     "execution_count": 13,
     "metadata": {},
     "output_type": "execute_result"
    }
   ],
   "source": [
    "x_train.shape, y_train.shape"
   ]
  },
  {
   "cell_type": "code",
   "execution_count": 14,
   "metadata": {},
   "outputs": [],
   "source": [
    "def base_model():\n",
    "  inputs = Input(shape=(x_train.shape[1]))\n",
    "  \n",
    "  layer = Dense(256, kernel_initializer='he_normal')(inputs)\n",
    "  layer = BatchNormalization()(layer)\n",
    "  layer = Activation('relu')(layer)\n",
    "  layer = Dropout(0.2)(layer)\n",
    "  \n",
    "  layer = Dense(128, kernel_initializer='he_normal')(inputs)\n",
    "  layer = BatchNormalization()(layer)\n",
    "  layer = Activation('relu')(layer)\n",
    "  layer = Dropout(0.2)(layer)\n",
    "  \n",
    "  layer = Dense(64, kernel_initializer='he_normal')(inputs)\n",
    "  layer = BatchNormalization()(layer)\n",
    "  layer = Activation('relu')(layer)\n",
    "  layer = Dropout(0.2)(layer)\n",
    "  \n",
    "  outputs = Dense(1, name='output')(layer)\n",
    "  \n",
    "  model = Model(inputs=inputs, outputs=outputs)\n",
    "  model.compile(optimizer='adam', loss='mean_squared_error')\n",
    "  \n",
    "  return model"
   ]
  },
  {
   "cell_type": "code",
   "execution_count": 15,
   "metadata": {},
   "outputs": [
    {
     "name": "stdout",
     "output_type": "stream",
     "text": [
      "Metal device set to: Apple M1\n",
      "\n",
      "systemMemory: 16.00 GB\n",
      "maxCacheSize: 5.33 GB\n",
      "\n",
      "Epoch 1/30\n"
     ]
    },
    {
     "name": "stderr",
     "output_type": "stream",
     "text": [
      "2023-04-08 18:46:02.975477: I tensorflow/core/common_runtime/pluggable_device/pluggable_device_factory.cc:305] Could not identify NUMA node of platform GPU ID 0, defaulting to 0. Your kernel may not have been built with NUMA support.\n",
      "2023-04-08 18:46:02.975579: I tensorflow/core/common_runtime/pluggable_device/pluggable_device_factory.cc:271] Created TensorFlow device (/job:localhost/replica:0/task:0/device:GPU:0 with 0 MB memory) -> physical PluggableDevice (device: 0, name: METAL, pci bus id: <undefined>)\n",
      "2023-04-08 18:46:03.133121: W tensorflow/core/platform/profile_utils/cpu_utils.cc:128] Failed to get CPU frequency: 0 Hz\n",
      "2023-04-08 18:46:03.289932: I tensorflow/core/grappler/optimizers/custom_graph_optimizer_registry.cc:113] Plugin optimizer for device_type GPU is enabled.\n"
     ]
    },
    {
     "name": "stdout",
     "output_type": "stream",
     "text": [
      "493/493 [==============================] - 3s 6ms/step - loss: 422.5395\n",
      "Epoch 2/30\n",
      "493/493 [==============================] - 3s 6ms/step - loss: 227.0821\n",
      "Epoch 3/30\n",
      "493/493 [==============================] - 3s 6ms/step - loss: 219.0296\n",
      "Epoch 4/30\n",
      "493/493 [==============================] - 3s 6ms/step - loss: 212.5102\n",
      "Epoch 5/30\n",
      "493/493 [==============================] - 3s 6ms/step - loss: 206.7061\n",
      "Epoch 6/30\n",
      "493/493 [==============================] - 3s 6ms/step - loss: 203.2556\n",
      "Epoch 7/30\n",
      "493/493 [==============================] - 3s 6ms/step - loss: 201.2077\n",
      "Epoch 8/30\n",
      "493/493 [==============================] - 3s 6ms/step - loss: 199.2867\n",
      "Epoch 9/30\n",
      "493/493 [==============================] - 3s 6ms/step - loss: 198.2651\n",
      "Epoch 10/30\n",
      "493/493 [==============================] - 3s 6ms/step - loss: 197.1409\n",
      "Epoch 11/30\n",
      "493/493 [==============================] - 3s 6ms/step - loss: 196.2353\n",
      "Epoch 12/30\n",
      "493/493 [==============================] - 3s 6ms/step - loss: 195.4487\n",
      "Epoch 13/30\n",
      "493/493 [==============================] - 3s 6ms/step - loss: 195.6880\n",
      "Epoch 14/30\n",
      "493/493 [==============================] - 3s 6ms/step - loss: 196.0154\n",
      "Epoch 15/30\n",
      "493/493 [==============================] - 3s 6ms/step - loss: 195.8423\n",
      "Epoch 16/30\n",
      "493/493 [==============================] - 3s 6ms/step - loss: 195.6108\n",
      "Epoch 17/30\n",
      "493/493 [==============================] - 3s 6ms/step - loss: 194.9927\n",
      "Epoch 18/30\n",
      "493/493 [==============================] - 3s 6ms/step - loss: 195.7503\n",
      "Epoch 19/30\n",
      "493/493 [==============================] - 3s 6ms/step - loss: 194.8199\n",
      "Epoch 20/30\n",
      "493/493 [==============================] - 3s 6ms/step - loss: 194.7941\n",
      "Epoch 21/30\n",
      "493/493 [==============================] - 3s 6ms/step - loss: 194.8937\n",
      "Epoch 22/30\n",
      "493/493 [==============================] - 3s 6ms/step - loss: 193.5848\n",
      "Epoch 23/30\n",
      "493/493 [==============================] - 3s 6ms/step - loss: 193.6315\n",
      "Epoch 24/30\n",
      "493/493 [==============================] - 3s 6ms/step - loss: 193.7920\n",
      "Epoch 25/30\n",
      "493/493 [==============================] - 3s 6ms/step - loss: 194.4253\n",
      "Epoch 26/30\n",
      "493/493 [==============================] - 3s 6ms/step - loss: 194.3752\n",
      "Epoch 27/30\n",
      "493/493 [==============================] - 3s 6ms/step - loss: 193.3205\n",
      "Epoch 28/30\n",
      "493/493 [==============================] - 3s 6ms/step - loss: 193.1901\n",
      "Epoch 29/30\n",
      "493/493 [==============================] - 3s 6ms/step - loss: 193.0420\n",
      "Epoch 30/30\n",
      "493/493 [==============================] - 3s 6ms/step - loss: 193.1159\n"
     ]
    },
    {
     "data": {
      "text/plain": [
       "<keras.callbacks.History at 0x1551f6560>"
      ]
     },
     "execution_count": 15,
     "metadata": {},
     "output_type": "execute_result"
    }
   ],
   "source": [
    "model = base_model()\n",
    "\n",
    "model.fit(x_train, y_train, batch_size=128, epochs=30)"
   ]
  },
  {
   "cell_type": "code",
   "execution_count": 20,
   "metadata": {},
   "outputs": [],
   "source": [
    "model.save('../ai_model/latest_model.h5')"
   ]
  },
  {
   "cell_type": "code",
   "execution_count": 21,
   "metadata": {},
   "outputs": [],
   "source": [
    "model2 = tf.keras.models.load_model('../ai_model/latest_model.h5')"
   ]
  },
  {
   "cell_type": "code",
   "execution_count": 454,
   "metadata": {},
   "outputs": [
    {
     "data": {
      "text/html": [
       "<div>\n",
       "<style scoped>\n",
       "    .dataframe tbody tr th:only-of-type {\n",
       "        vertical-align: middle;\n",
       "    }\n",
       "\n",
       "    .dataframe tbody tr th {\n",
       "        vertical-align: top;\n",
       "    }\n",
       "\n",
       "    .dataframe thead th {\n",
       "        text-align: right;\n",
       "    }\n",
       "</style>\n",
       "<table border=\"1\" class=\"dataframe\">\n",
       "  <thead>\n",
       "    <tr style=\"text-align: right;\">\n",
       "      <th></th>\n",
       "      <th>id</th>\n",
       "      <th>number_asc</th>\n",
       "      <th>week</th>\n",
       "      <th>line</th>\n",
       "      <th>st_code</th>\n",
       "      <th>st_name</th>\n",
       "      <th>clss</th>\n",
       "      <th>time</th>\n",
       "      <th>congestion</th>\n",
       "    </tr>\n",
       "  </thead>\n",
       "  <tbody>\n",
       "    <tr>\n",
       "      <th>16</th>\n",
       "      <td>17</td>\n",
       "      <td>1</td>\n",
       "      <td>평일</td>\n",
       "      <td>1</td>\n",
       "      <td>150</td>\n",
       "      <td>서울역</td>\n",
       "      <td>상선</td>\n",
       "      <td>1800</td>\n",
       "      <td>30.8</td>\n",
       "    </tr>\n",
       "    <tr>\n",
       "      <th>53</th>\n",
       "      <td>54</td>\n",
       "      <td>1</td>\n",
       "      <td>평일</td>\n",
       "      <td>1</td>\n",
       "      <td>150</td>\n",
       "      <td>서울역</td>\n",
       "      <td>하선</td>\n",
       "      <td>1800</td>\n",
       "      <td>84.0</td>\n",
       "    </tr>\n",
       "    <tr>\n",
       "      <th>21032</th>\n",
       "      <td>21033</td>\n",
       "      <td>1</td>\n",
       "      <td>토요일</td>\n",
       "      <td>1</td>\n",
       "      <td>150</td>\n",
       "      <td>서울역</td>\n",
       "      <td>상선</td>\n",
       "      <td>1800</td>\n",
       "      <td>21.3</td>\n",
       "    </tr>\n",
       "    <tr>\n",
       "      <th>21069</th>\n",
       "      <td>21070</td>\n",
       "      <td>1</td>\n",
       "      <td>토요일</td>\n",
       "      <td>1</td>\n",
       "      <td>150</td>\n",
       "      <td>서울역</td>\n",
       "      <td>하선</td>\n",
       "      <td>1800</td>\n",
       "      <td>37.6</td>\n",
       "    </tr>\n",
       "    <tr>\n",
       "      <th>42048</th>\n",
       "      <td>42049</td>\n",
       "      <td>1</td>\n",
       "      <td>일요일</td>\n",
       "      <td>1</td>\n",
       "      <td>150</td>\n",
       "      <td>서울역</td>\n",
       "      <td>상선</td>\n",
       "      <td>1800</td>\n",
       "      <td>15.1</td>\n",
       "    </tr>\n",
       "    <tr>\n",
       "      <th>42085</th>\n",
       "      <td>42086</td>\n",
       "      <td>1</td>\n",
       "      <td>일요일</td>\n",
       "      <td>1</td>\n",
       "      <td>150</td>\n",
       "      <td>서울역</td>\n",
       "      <td>하선</td>\n",
       "      <td>1800</td>\n",
       "      <td>30.0</td>\n",
       "    </tr>\n",
       "  </tbody>\n",
       "</table>\n",
       "</div>"
      ],
      "text/plain": [
       "          id  number_asc week  line  st_code st_name clss  time  congestion\n",
       "16        17           1   평일     1      150     서울역   상선  1800        30.8\n",
       "53        54           1   평일     1      150     서울역   하선  1800        84.0\n",
       "21032  21033           1  토요일     1      150     서울역   상선  1800        21.3\n",
       "21069  21070           1  토요일     1      150     서울역   하선  1800        37.6\n",
       "42048  42049           1  일요일     1      150     서울역   상선  1800        15.1\n",
       "42085  42086           1  일요일     1      150     서울역   하선  1800        30.0"
      ]
     },
     "execution_count": 454,
     "metadata": {},
     "output_type": "execute_result"
    }
   ],
   "source": [
    "dataset_cp[(dataset_cp['st_code'] == 150) & (dataset_cp['time'] == 1800)]"
   ]
  },
  {
   "cell_type": "code",
   "execution_count": 19,
   "metadata": {},
   "outputs": [
    {
     "name": "stdout",
     "output_type": "stream",
     "text": [
      "1/1 [==============================] - 0s 10ms/step\n"
     ]
    },
    {
     "data": {
      "text/plain": [
       "array([[32.71419]], dtype=float32)"
      ]
     },
     "execution_count": 19,
     "metadata": {},
     "output_type": "execute_result"
    }
   ],
   "source": [
    "new_data = np.array([[1, 150, 2, 1800]])\n",
    "\n",
    "model.predict(new_data)"
   ]
  },
  {
   "cell_type": "code",
   "execution_count": 23,
   "metadata": {},
   "outputs": [
    {
     "name": "stdout",
     "output_type": "stream",
     "text": [
      "1/1 [==============================] - 0s 9ms/step\n"
     ]
    },
    {
     "data": {
      "text/plain": [
       "array([[32.71419]], dtype=float32)"
      ]
     },
     "execution_count": 23,
     "metadata": {},
     "output_type": "execute_result"
    }
   ],
   "source": [
    "model2.predict(new_data)"
   ]
  },
  {
   "cell_type": "code",
   "execution_count": 394,
   "metadata": {},
   "outputs": [],
   "source": [
    "# seq_len = 37\n",
    "# stride = 1\n",
    "# batch_size = 37\n",
    "\n",
    "# generator = TimeseriesGenerator(x_train, y_train, length=seq_len, stride=stride, batch_size=batch_size)"
   ]
  },
  {
   "cell_type": "code",
   "execution_count": 395,
   "metadata": {},
   "outputs": [],
   "source": [
    "# def gru_model(layers=0):\n",
    "#   inputs = Input(shape=(seq_len, x_train.shape[1]))\n",
    "#   layer = GRU(64, activation='tanh')(inputs)\n",
    "#   layer = Dropout(0.2)(layer)\n",
    "  \n",
    "#   for _ in range(layers):\n",
    "#     layer = GRU(64, activation='tanh')(inputs)\n",
    "#     layer = Dropout(0.2)(layer)\n",
    "  \n",
    "#   outputs = Dense(1, name='output')(layer)\n",
    "  \n",
    "#   model = Model(inputs=inputs, outputs=outputs)\n",
    "  \n",
    "#   model.compile(optimizer='adam', loss='mean_squared_error')\n",
    "  \n",
    "#   return model"
   ]
  },
  {
   "cell_type": "code",
   "execution_count": null,
   "metadata": {},
   "outputs": [],
   "source": [
    "# model = gru_model(6)\n",
    "\n",
    "# model.fit(generator, epochs=10)"
   ]
  },
  {
   "cell_type": "code",
   "execution_count": null,
   "metadata": {},
   "outputs": [],
   "source": [
    "# new_data = np.array([[1, 1, 150, 1, 2000]])\n",
    "\n",
    "# last_sequence = x_train[-(seq_len - 1):]\n",
    "# new_sequence = np.concatenate((last_sequence, new_data), axis=0)"
   ]
  },
  {
   "cell_type": "code",
   "execution_count": null,
   "metadata": {},
   "outputs": [],
   "source": [
    "# model.predict(new_data.reshape(1, 1, x_train.shape[1]))"
   ]
  }
 ],
 "metadata": {
  "interpreter": {
   "hash": "3cacf89191c40a95faf5b7c4660fb9a17a57be1913175a649a8b42f9f34af90e"
  },
  "kernelspec": {
   "display_name": "Python 3.10.9 ('base')",
   "language": "python",
   "name": "python3"
  },
  "language_info": {
   "codemirror_mode": {
    "name": "ipython",
    "version": 3
   },
   "file_extension": ".py",
   "mimetype": "text/x-python",
   "name": "python",
   "nbconvert_exporter": "python",
   "pygments_lexer": "ipython3",
   "version": "3.10.9"
  },
  "orig_nbformat": 4
 },
 "nbformat": 4,
 "nbformat_minor": 2
}
